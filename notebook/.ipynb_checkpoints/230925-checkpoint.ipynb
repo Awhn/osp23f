{
 "cells": [
  {
   "cell_type": "markdown",
   "id": "9d8af0d4",
   "metadata": {},
   "source": [
    "# 230925"
   ]
  },
  {
   "cell_type": "code",
   "execution_count": 1,
   "id": "8244b848",
   "metadata": {},
   "outputs": [
    {
     "name": "stdout",
     "output_type": "stream",
     "text": [
      "TEST\n"
     ]
    }
   ],
   "source": [
    "print(\"TEST\")"
   ]
  }
 ],
 "metadata": {
  "kernelspec": {
   "display_name": "Python 3 (ipykernel)",
   "language": "python",
   "name": "python3"
  },
  "language_info": {
   "codemirror_mode": {
    "name": "ipython",
    "version": 3
   },
   "file_extension": ".py",
   "mimetype": "text/x-python",
   "name": "python",
   "nbconvert_exporter": "python",
   "pygments_lexer": "ipython3",
   "version": "3.10.6"
  }
 },
 "nbformat": 4,
 "nbformat_minor": 5
}
