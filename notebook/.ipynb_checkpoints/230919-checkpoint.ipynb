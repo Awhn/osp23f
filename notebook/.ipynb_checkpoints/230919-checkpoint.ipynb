{
 "cells": [
  {
   "cell_type": "markdown",
   "id": "3f8d18f3",
   "metadata": {},
   "source": [
    "# 2023 Opensource Programming"
   ]
  },
  {
   "cell_type": "markdown",
   "id": "b4b452e6",
   "metadata": {},
   "source": [
    "test for braching"
   ]
  },
  {
   "cell_type": "markdown",
   "id": "0be878c1",
   "metadata": {},
   "source": []
  }
 ],
 "metadata": {
  "kernelspec": {
   "display_name": "Python 3 (ipykernel)",
   "language": "python",
   "name": "python3"
  },
  "language_info": {
   "codemirror_mode": {
    "name": "ipython",
    "version": 3
   },
   "file_extension": ".py",
   "mimetype": "text/x-python",
   "name": "python",
   "nbconvert_exporter": "python",
   "pygments_lexer": "ipython3",
   "version": "3.10.6"
  }
 },
 "nbformat": 4,
 "nbformat_minor": 5
}
