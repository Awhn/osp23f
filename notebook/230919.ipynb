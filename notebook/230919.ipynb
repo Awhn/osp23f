{
 "cells": [
  {
   "cell_type": "markdown",
   "id": "76f0e9d4",
   "metadata": {},
   "source": [
    "# 2023 Opensource Programming"
   ]
  },
  {
   "cell_type": "markdown",
   "id": "f9fafbdd",
   "metadata": {},
   "source": [
    "master branch protection test"
   ]
  },
  {
   "cell_type": "markdown",
   "id": "5dd73c91",
   "metadata": {},
   "source": []
  }
 ],
 "metadata": {
  "kernelspec": {
   "display_name": "Python 3 (ipykernel)",
   "language": "python",
   "name": "python3"
  },
  "language_info": {
   "codemirror_mode": {
    "name": "ipython",
    "version": 3
   },
   "file_extension": ".py",
   "mimetype": "text/x-python",
   "name": "python",
   "nbconvert_exporter": "python",
   "pygments_lexer": "ipython3",
   "version": "3.10.6"
  }
 },
 "nbformat": 4,
 "nbformat_minor": 5
}
