{
 "cells": [
  {
   "cell_type": "markdown",
   "id": "e5f27bb6",
   "metadata": {},
   "source": [
    "# 2023 Opensource Programming"
   ]
  },
  {
   "cell_type": "markdown",
   "id": "22f9f14d",
   "metadata": {},
   "source": [
    "master branch protection test"
   ]
  },
  {
   "cell_type": "markdown",
   "id": "bcb59f6f",
   "metadata": {},
   "source": [
    "git pull test"
   ]
  },
  {
   "cell_type": "code",
   "execution_count": 3,
   "id": "1e405a4b",
   "metadata": {},
   "outputs": [
    {
     "name": "stdout",
     "output_type": "stream",
     "text": [
      "3\n"
     ]
    }
   ],
   "source": [
    "print(3)"
   ]
  },
  {
   "cell_type": "code",
   "execution_count": 6,
   "id": "f7f3cb6d",
   "metadata": {},
   "outputs": [],
   "source": [
    "!git config --global user.name 'Awhn'"
   ]
  },
  {
   "cell_type": "code",
   "execution_count": null,
   "id": "1c96e12d",
   "metadata": {},
   "outputs": [],
   "source": []
  }
 ],
 "metadata": {
  "kernelspec": {
   "display_name": "Python 3 (ipykernel)",
   "language": "python",
   "name": "python3"
  },
  "language_info": {
   "codemirror_mode": {
    "name": "ipython",
    "version": 3
   },
   "file_extension": ".py",
   "mimetype": "text/x-python",
   "name": "python",
   "nbconvert_exporter": "python",
   "pygments_lexer": "ipython3",
   "version": "3.10.6"
  }
 },
 "nbformat": 4,
 "nbformat_minor": 5
}
