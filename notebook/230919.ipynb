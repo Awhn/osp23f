{
 "cells": [
  {
   "cell_type": "markdown",
   "id": "e5f27bb6",
   "metadata": {},
   "source": [
    "# 2023 Opensource Programming"
   ]
  },
  {
   "cell_type": "markdown",
   "id": "22f9f14d",
   "metadata": {},
   "source": [
    "master branch protection test"
   ]
  },
  {
   "cell_type": "markdown",
   "id": "bcb59f6f",
   "metadata": {},
   "source": [
    "git pull test"
   ]
  },
  {
   "cell_type": "code",
   "execution_count": 3,
   "id": "1e405a4b",
   "metadata": {},
   "outputs": [
    {
     "name": "stdout",
     "output_type": "stream",
     "text": [
      "3\n"
     ]
    }
   ],
   "source": [
    "print(3)"
   ]
  },
  {
   "cell_type": "code",
   "execution_count": 7,
   "id": "f7f3cb6d",
   "metadata": {},
   "outputs": [],
   "source": [
    "!git config --global user.name 'Awhn'"
   ]
  },
  {
   "cell_type": "code",
   "execution_count": 8,
   "id": "1c96e12d",
   "metadata": {},
   "outputs": [
    {
     "name": "stdout",
     "output_type": "stream",
     "text": [
      "현재 브랜치 master\r\n",
      "브랜치가 'origin/master'에 맞게 업데이트된 상태입니다.\r\n",
      "\r\n",
      "커밋하도록 정하지 않은 변경 사항:\r\n",
      "  (무엇을 커밋할지 바꾸려면 \"git add <파일>...\"을 사용하십시오)\r\n",
      "  (작업 디렉토리의 변경을 무시하려면 \"git restore <file>...\"을 사용하시오)\r\n",
      "\t\u001b[31m수정함:        230919.ipynb\u001b[m\r\n",
      "\r\n",
      "커밋할 변경 사항을 추가하지 않았습니다 (\"git add\" 및/또는 \"git commit -a\"를\r\n",
      "사용하십시오)\r\n"
     ]
    }
   ],
   "source": [
    "!git status"
   ]
  },
  {
   "cell_type": "code",
   "execution_count": 9,
   "id": "1e49d60b",
   "metadata": {},
   "outputs": [],
   "source": [
    "!git add ."
   ]
  },
  {
   "cell_type": "code",
   "execution_count": 10,
   "id": "26ef2f3c",
   "metadata": {},
   "outputs": [
    {
     "name": "stdout",
     "output_type": "stream",
     "text": [
      "[master 6f5f70a] test\r\n",
      " 1 file changed, 41 insertions(+), 3 deletions(-)\r\n"
     ]
    }
   ],
   "source": [
    "!git commit -m 'test'"
   ]
  },
  {
   "cell_type": "code",
   "execution_count": 11,
   "id": "62685ac9",
   "metadata": {},
   "outputs": [
    {
     "name": "stdout",
     "output_type": "stream",
     "text": [
      "오브젝트 나열하는 중: 7, 완료.\n",
      "오브젝트 개수 세는 중: 100% (7/7), 완료.\n",
      "Delta compression using up to 12 threads\n",
      "오브젝트 압축하는 중: 100% (4/4), 완료.\n",
      "오브젝트 쓰는 중: 100% (4/4), 659 바이트 | 659.00 KiB/s, 완료.\n",
      "Total 4 (delta 1), reused 0 (delta 0), pack-reused 0\n",
      "remote: Resolving deltas: 100% (1/1), completed with 1 local object.\u001b[K\n",
      "remote: Bypassed rule violations for refs/heads/master:\u001b[K\n",
      "remote: \n",
      "remote: - Changes must be made through a pull request.\u001b[K\n",
      "remote: \n",
      "To https://github.com/Awhn/osp23f.git\n",
      "   e1abf72..6f5f70a  master -> master\n"
     ]
    }
   ],
   "source": [
    "!git push"
   ]
  }
 ],
 "metadata": {
  "kernelspec": {
   "display_name": "Python 3 (ipykernel)",
   "language": "python",
   "name": "python3"
  },
  "language_info": {
   "codemirror_mode": {
    "name": "ipython",
    "version": 3
   },
   "file_extension": ".py",
   "mimetype": "text/x-python",
   "name": "python",
   "nbconvert_exporter": "python",
   "pygments_lexer": "ipython3",
   "version": "3.10.6"
  }
 },
 "nbformat": 4,
 "nbformat_minor": 5
}
