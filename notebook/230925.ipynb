{
 "cells": [
  {
   "cell_type": "markdown",
   "id": "80f8dba6",
   "metadata": {},
   "source": [
    "# 230925"
   ]
  },
  {
   "cell_type": "code",
   "execution_count": 3,
   "id": "f65841b2",
   "metadata": {},
   "outputs": [
    {
     "name": "stdout",
     "output_type": "stream",
     "text": [
      "Not Test\n"
     ]
    }
   ],
   "source": [
    "print(\"Not Test\")"
   ]
  },
  {
   "cell_type": "code",
   "execution_count": 2,
   "id": "a9fcec22",
   "metadata": {},
   "outputs": [
    {
     "name": "stdout",
     "output_type": "stream",
     "text": [
      "True\n"
     ]
    }
   ],
   "source": [
    "if 10 > 1 : print(\"True\")"
   ]
  }
 ],
 "metadata": {
  "kernelspec": {
   "display_name": "Python 3 (ipykernel)",
   "language": "python",
   "name": "python3"
  },
  "language_info": {
   "codemirror_mode": {
    "name": "ipython",
    "version": 3
   },
   "file_extension": ".py",
   "mimetype": "text/x-python",
   "name": "python",
   "nbconvert_exporter": "python",
   "pygments_lexer": "ipython3",
   "version": "3.10.6"
  }
 },
 "nbformat": 4,
 "nbformat_minor": 5
}
